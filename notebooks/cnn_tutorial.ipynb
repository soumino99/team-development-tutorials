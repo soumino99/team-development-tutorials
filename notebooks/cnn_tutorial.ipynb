{
 "cells": [
  {
   "cell_type": "code",
   "execution_count": 2,
   "id": "ffcfe887",
   "metadata": {},
   "outputs": [
    {
     "name": "stdout",
     "output_type": "stream",
     "text": [
      "hello world\n"
     ]
    }
   ],
   "source": [
    "print(\"hello world\")"
   ]
  },
  {
   "cell_type": "markdown",
   "id": "c7ebdada",
   "metadata": {},
   "source": [
    "# 初期設定"
   ]
  },
  {
   "cell_type": "code",
   "execution_count": 3,
   "id": "59f04a96",
   "metadata": {},
   "outputs": [],
   "source": [
    "# 必要なライブラリのインポート\n",
    "import torch\n",
    "import torch.nn as nn\n",
    "import torch.optim as optim\n",
    "from torchvision import datasets, transforms\n",
    "from torch.utils.data import DataLoader\n"
   ]
  },
  {
   "cell_type": "code",
   "execution_count": 4,
   "id": "3a26affc",
   "metadata": {},
   "outputs": [],
   "source": [
    "import os\n",
    "import sys\n",
    "\n",
    "# プロジェクトのルートディレクトリを設定\n",
    "root_dir = os.path.abspath(os.path.join(os.getcwd(), '..'))\n",
    "sys.path.append(os.path.join(root_dir, 'src'))"
   ]
  },
  {
   "cell_type": "markdown",
   "id": "352a31c1",
   "metadata": {},
   "source": [
    "# データの準備"
   ]
  },
  {
   "cell_type": "code",
   "execution_count": 5,
   "id": "ca41ef05",
   "metadata": {},
   "outputs": [],
   "source": [
    "transform = transforms.Compose([transforms.ToTensor(), transforms.Normalize((0.5,), (0.5,))])\n",
    "\n",
    "train_dataset = datasets.MNIST(root='./data', train=True, download=True, transform=transform)\n",
    "train_loader = DataLoader(train_dataset, batch_size=64, shuffle=True)\n",
    "\n",
    "test_dataset = datasets.MNIST(root='./data', train=False, download=True, transform=transform)\n",
    "test_loader = DataLoader(test_dataset, batch_size=64, shuffle=False)"
   ]
  },
  {
   "cell_type": "markdown",
   "id": "2277d6ed",
   "metadata": {},
   "source": [
    "# CNNモデルの定義"
   ]
  },
  {
   "cell_type": "code",
   "execution_count": 6,
   "id": "760ee6b3",
   "metadata": {},
   "outputs": [],
   "source": [
    "class CNN(nn.Module):\n",
    "    def __init__(self):\n",
    "        super(CNN, self).__init__()\n",
    "        \n",
    "        # 畳み込み層\n",
    "        self.conv1 = nn.Conv2d(in_channels=1, out_channels=32, kernel_size=3, padding=1)  # 入力: 1チャネル (グレースケール画像)\n",
    "        self.conv2 = nn.Conv2d(in_channels=32, out_channels=64, kernel_size=3, padding=1)\n",
    "        \n",
    "        # プーリング層\n",
    "        self.pool = nn.MaxPool2d(kernel_size=2, stride=2)\n",
    "        \n",
    "        # 全結合層\n",
    "        self.fc1 = nn.Linear(64 * 7 * 7, 128)  # 画像のサイズが28x28 -> 14x14 -> 7x7 after pooling\n",
    "        self.fc2 = nn.Linear(128, 10)  # 10クラスの分類\n",
    "        \n",
    "    def forward(self, x):\n",
    "        x = self.pool(torch.relu(self.conv1(x)))  # 畳み込み -> ReLU -> プーリング\n",
    "        x = self.pool(torch.relu(self.conv2(x)))  # 畳み込み -> ReLU -> プーリング\n",
    "        x = x.view(-1, 64 * 7 * 7)  # フラット化\n",
    "        x = torch.relu(self.fc1(x))  # 全結合層\n",
    "        x = self.fc2(x)  # 出力層\n",
    "        return x\n"
   ]
  },
  {
   "cell_type": "markdown",
   "id": "80c22a80",
   "metadata": {},
   "source": [
    "# モデル、損失関数、最適化手法の設定"
   ]
  },
  {
   "cell_type": "code",
   "execution_count": 7,
   "id": "3d47ed0c",
   "metadata": {},
   "outputs": [],
   "source": [
    "model = CNN()\n",
    "criterion = nn.CrossEntropyLoss()\n",
    "optimizer = optim.Adam(model.parameters(), lr=0.001)"
   ]
  },
  {
   "cell_type": "markdown",
   "id": "b9632745",
   "metadata": {},
   "source": [
    "# 訓練ループ"
   ]
  },
  {
   "cell_type": "code",
   "execution_count": 8,
   "id": "b68f668b",
   "metadata": {},
   "outputs": [
    {
     "name": "stdout",
     "output_type": "stream",
     "text": [
      "Epoch [1/5], Loss: 0.1567\n",
      "Epoch [2/5], Loss: 0.0456\n",
      "Epoch [3/5], Loss: 0.0309\n",
      "Epoch [4/5], Loss: 0.0239\n",
      "Epoch [5/5], Loss: 0.0163\n"
     ]
    }
   ],
   "source": [
    "num_epochs = 5\n",
    "\n",
    "for epoch in range(num_epochs):\n",
    "    model.train()\n",
    "    running_loss = 0.0\n",
    "    for images, labels in train_loader:\n",
    "        optimizer.zero_grad()\n",
    "        \n",
    "        outputs = model(images)\n",
    "        loss = criterion(outputs, labels)\n",
    "        loss.backward()\n",
    "        \n",
    "        optimizer.step()\n",
    "        \n",
    "        running_loss += loss.item()\n",
    "\n",
    "    print(f\"Epoch [{epoch+1}/{num_epochs}], Loss: {running_loss/len(train_loader):.4f}\")"
   ]
  },
  {
   "cell_type": "markdown",
   "id": "40b50098",
   "metadata": {},
   "source": [
    "# モデル評価"
   ]
  },
  {
   "cell_type": "code",
   "execution_count": 9,
   "id": "a98d90b2",
   "metadata": {},
   "outputs": [
    {
     "name": "stdout",
     "output_type": "stream",
     "text": [
      "Test Accuracy: 98.30%\n"
     ]
    }
   ],
   "source": [
    "model.eval()  # 評価モードに変更\n",
    "correct = 0\n",
    "total = 0\n",
    "with torch.no_grad():  # 勾配計算を行わない\n",
    "    for images, labels in test_loader:\n",
    "        outputs = model(images)\n",
    "        _, predicted = torch.max(outputs.data, 1)\n",
    "        total += labels.size(0)\n",
    "        correct += (predicted == labels).sum().item()\n",
    "\n",
    "accuracy = 100 * correct / total\n",
    "print(f\"Test Accuracy: {accuracy:.2f}%\")\n"
   ]
  }
 ],
 "metadata": {
  "kernelspec": {
   "display_name": "team-development-tutorials-L0Qu9_jg-py3.13",
   "language": "python",
   "name": "python3"
  },
  "language_info": {
   "codemirror_mode": {
    "name": "ipython",
    "version": 3
   },
   "file_extension": ".py",
   "mimetype": "text/x-python",
   "name": "python",
   "nbconvert_exporter": "python",
   "pygments_lexer": "ipython3",
   "version": "3.13.2"
  }
 },
 "nbformat": 4,
 "nbformat_minor": 5
}
